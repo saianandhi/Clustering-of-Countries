{
 "cells": [
  {
   "cell_type": "markdown",
   "id": "4858323c",
   "metadata": {
    "papermill": {
     "duration": 0.006476,
     "end_time": "2022-07-28T10:52:32.081441",
     "exception": false,
     "start_time": "2022-07-28T10:52:32.074965",
     "status": "completed"
    },
    "tags": []
   },
   "source": [
    "# Countries clustering and ranking based on their need for help\n",
    "\n",
    "### Result:\n",
    "\n",
    "* Cluster1: These are the countries that need immediate help. They have low Gdpp. Also many of them have meduim to high health expenses. **In this cluster, countries with higher health expenses have higher priority**\n",
    "* Cluster2: These are the countries that do not need help. Although they have low to meduim Gdpp, they managed to have a health expense relative to their income. (Probably by having a very efficient health system)\n",
    "* Cluster3:  These are the countries that do not need help. Their health system is efficient like cluster2 but they have a higher Gdpp."
   ]
  },
  {
   "cell_type": "code",
   "execution_count": 1,
   "id": "e95703a8",
   "metadata": {
    "execution": {
     "iopub.execute_input": "2022-07-28T10:52:32.095185Z",
     "iopub.status.busy": "2022-07-28T10:52:32.094299Z",
     "iopub.status.idle": "2022-07-28T10:52:33.604904Z",
     "shell.execute_reply": "2022-07-28T10:52:33.603740Z"
    },
    "papermill": {
     "duration": 1.520369,
     "end_time": "2022-07-28T10:52:33.607501",
     "exception": false,
     "start_time": "2022-07-28T10:52:32.087132",
     "status": "completed"
    },
    "tags": []
   },
   "outputs": [],
   "source": [
    "# import libraries\n",
    "\n",
    "import pandas as pd\n",
    "import matplotlib.pyplot as plt\n",
    "from sklearn.cluster import KMeans\n",
    "import matplotlib.patches as ptch\n",
    "import scipy.cluster.hierarchy as sch"
   ]
  },
  {
   "cell_type": "markdown",
   "id": "0b5ec759",
   "metadata": {
    "papermill": {
     "duration": 0.00541,
     "end_time": "2022-07-28T10:52:33.618443",
     "exception": false,
     "start_time": "2022-07-28T10:52:33.613033",
     "status": "completed"
    },
    "tags": []
   },
   "source": [
    "# 1. Data loading"
   ]
  },
  {
   "cell_type": "code",
   "execution_count": 2,
   "id": "3f0b2c79",
   "metadata": {
    "execution": {
     "iopub.execute_input": "2022-07-28T10:52:33.631861Z",
     "iopub.status.busy": "2022-07-28T10:52:33.630875Z",
     "iopub.status.idle": "2022-07-28T10:52:33.675501Z",
     "shell.execute_reply": "2022-07-28T10:52:33.674163Z"
    },
    "papermill": {
     "duration": 0.054076,
     "end_time": "2022-07-28T10:52:33.678095",
     "exception": false,
     "start_time": "2022-07-28T10:52:33.624019",
     "status": "completed"
    },
    "tags": []
   },
   "outputs": [
    {
     "data": {
      "text/html": [
       "<div>\n",
       "<style scoped>\n",
       "    .dataframe tbody tr th:only-of-type {\n",
       "        vertical-align: middle;\n",
       "    }\n",
       "\n",
       "    .dataframe tbody tr th {\n",
       "        vertical-align: top;\n",
       "    }\n",
       "\n",
       "    .dataframe thead th {\n",
       "        text-align: right;\n",
       "    }\n",
       "</style>\n",
       "<table border=\"1\" class=\"dataframe\">\n",
       "  <thead>\n",
       "    <tr style=\"text-align: right;\">\n",
       "      <th></th>\n",
       "      <th>country</th>\n",
       "      <th>child_mort</th>\n",
       "      <th>exports</th>\n",
       "      <th>health</th>\n",
       "      <th>imports</th>\n",
       "      <th>income</th>\n",
       "      <th>inflation</th>\n",
       "      <th>life_expec</th>\n",
       "      <th>total_fer</th>\n",
       "      <th>gdpp</th>\n",
       "    </tr>\n",
       "  </thead>\n",
       "  <tbody>\n",
       "    <tr>\n",
       "      <th>0</th>\n",
       "      <td>Afghanistan</td>\n",
       "      <td>90.2</td>\n",
       "      <td>10.0</td>\n",
       "      <td>7.58</td>\n",
       "      <td>44.9</td>\n",
       "      <td>1610</td>\n",
       "      <td>9.44</td>\n",
       "      <td>56.2</td>\n",
       "      <td>5.82</td>\n",
       "      <td>553</td>\n",
       "    </tr>\n",
       "    <tr>\n",
       "      <th>1</th>\n",
       "      <td>Albania</td>\n",
       "      <td>16.6</td>\n",
       "      <td>28.0</td>\n",
       "      <td>6.55</td>\n",
       "      <td>48.6</td>\n",
       "      <td>9930</td>\n",
       "      <td>4.49</td>\n",
       "      <td>76.3</td>\n",
       "      <td>1.65</td>\n",
       "      <td>4090</td>\n",
       "    </tr>\n",
       "    <tr>\n",
       "      <th>2</th>\n",
       "      <td>Algeria</td>\n",
       "      <td>27.3</td>\n",
       "      <td>38.4</td>\n",
       "      <td>4.17</td>\n",
       "      <td>31.4</td>\n",
       "      <td>12900</td>\n",
       "      <td>16.10</td>\n",
       "      <td>76.5</td>\n",
       "      <td>2.89</td>\n",
       "      <td>4460</td>\n",
       "    </tr>\n",
       "    <tr>\n",
       "      <th>3</th>\n",
       "      <td>Angola</td>\n",
       "      <td>119.0</td>\n",
       "      <td>62.3</td>\n",
       "      <td>2.85</td>\n",
       "      <td>42.9</td>\n",
       "      <td>5900</td>\n",
       "      <td>22.40</td>\n",
       "      <td>60.1</td>\n",
       "      <td>6.16</td>\n",
       "      <td>3530</td>\n",
       "    </tr>\n",
       "    <tr>\n",
       "      <th>4</th>\n",
       "      <td>Antigua and Barbuda</td>\n",
       "      <td>10.3</td>\n",
       "      <td>45.5</td>\n",
       "      <td>6.03</td>\n",
       "      <td>58.9</td>\n",
       "      <td>19100</td>\n",
       "      <td>1.44</td>\n",
       "      <td>76.8</td>\n",
       "      <td>2.13</td>\n",
       "      <td>12200</td>\n",
       "    </tr>\n",
       "  </tbody>\n",
       "</table>\n",
       "</div>"
      ],
      "text/plain": [
       "               country  child_mort  exports  health  imports  income  \\\n",
       "0          Afghanistan        90.2     10.0    7.58     44.9    1610   \n",
       "1              Albania        16.6     28.0    6.55     48.6    9930   \n",
       "2              Algeria        27.3     38.4    4.17     31.4   12900   \n",
       "3               Angola       119.0     62.3    2.85     42.9    5900   \n",
       "4  Antigua and Barbuda        10.3     45.5    6.03     58.9   19100   \n",
       "\n",
       "   inflation  life_expec  total_fer   gdpp  \n",
       "0       9.44        56.2       5.82    553  \n",
       "1       4.49        76.3       1.65   4090  \n",
       "2      16.10        76.5       2.89   4460  \n",
       "3      22.40        60.1       6.16   3530  \n",
       "4       1.44        76.8       2.13  12200  "
      ]
     },
     "execution_count": 2,
     "metadata": {},
     "output_type": "execute_result"
    }
   ],
   "source": [
    "data = pd.read_csv(\"../input/unsupervised-learning-on-country-data/Country-data.csv\")\n",
    "data.head()"
   ]
  },
  {
   "cell_type": "code",
   "execution_count": 3,
   "id": "46235546",
   "metadata": {
    "execution": {
     "iopub.execute_input": "2022-07-28T10:52:33.691884Z",
     "iopub.status.busy": "2022-07-28T10:52:33.691500Z",
     "iopub.status.idle": "2022-07-28T10:52:33.700156Z",
     "shell.execute_reply": "2022-07-28T10:52:33.699002Z"
    },
    "papermill": {
     "duration": 0.018324,
     "end_time": "2022-07-28T10:52:33.702364",
     "exception": false,
     "start_time": "2022-07-28T10:52:33.684040",
     "status": "completed"
    },
    "tags": []
   },
   "outputs": [],
   "source": [
    "# feature selection \n",
    "# all columns except the country name\n",
    "\n",
    "X = data.iloc[:, 1:].values"
   ]
  },
  {
   "cell_type": "markdown",
   "id": "11774045",
   "metadata": {
    "papermill": {
     "duration": 0.005635,
     "end_time": "2022-07-28T10:52:33.713876",
     "exception": false,
     "start_time": "2022-07-28T10:52:33.708241",
     "status": "completed"
    },
    "tags": []
   },
   "source": [
    "# 2. Use Elbow plot and Dendrogram to pick a number clusters for K-means"
   ]
  },
  {
   "cell_type": "code",
   "execution_count": 4,
   "id": "b4b50273",
   "metadata": {
    "execution": {
     "iopub.execute_input": "2022-07-28T10:52:33.727724Z",
     "iopub.status.busy": "2022-07-28T10:52:33.726956Z",
     "iopub.status.idle": "2022-07-28T10:52:34.435238Z",
     "shell.execute_reply": "2022-07-28T10:52:34.433861Z"
    },
    "papermill": {
     "duration": 0.718325,
     "end_time": "2022-07-28T10:52:34.438077",
     "exception": false,
     "start_time": "2022-07-28T10:52:33.719752",
     "status": "completed"
    },
    "tags": []
   },
   "outputs": [
    {
     "data": {
      "image/png": "[encoded data removed]",
      "text/plain": [
       "<Figure size 720x432 with 1 Axes>"
      ]
     },
     "metadata": {
      "needs_background": "light"
     },
     "output_type": "display_data"
    }
   ],
   "source": [
    "wcss = []\n",
    "max_possible_clusters = 10\n",
    "for i in range(1, max_possible_clusters + 1):\n",
    "    kmeans = KMeans(n_clusters=i, init='k-means++', random_state=42)\n",
    "    kmeans.fit(X)\n",
    "    wcss.append(kmeans.inertia_)\n",
    "\n",
    "plt.figure(figsize=(10,6))    \n",
    "plt.plot(range(1, max_possible_clusters + 1), wcss)\n",
    "plt.title('The Elbow Method')\n",
    "plt.xlabel('Number of clusters')\n",
    "plt.ylabel('WCSS')\n",
    "plt.show()"
   ]
  },
  {
   "cell_type": "code",
   "execution_count": 5,
   "id": "e0ca7414",
   "metadata": {
    "execution": {
     "iopub.execute_input": "2022-07-28T10:52:34.453508Z",
     "iopub.status.busy": "2022-07-28T10:52:34.453083Z",
     "iopub.status.idle": "2022-07-28T10:52:37.583240Z",
     "shell.execute_reply": "2022-07-28T10:52:37.582024Z"
    },
    "papermill": {
     "duration": 3.141071,
     "end_time": "2022-07-28T10:52:37.586019",
     "exception": false,
     "start_time": "2022-07-28T10:52:34.444948",
     "status": "completed"
    },
    "tags": []
   },
   "outputs": [
    {
     "data": {
      "image/png": "[encoded data removed]",
      "text/plain": [
       "<Figure size 720x432 with 1 Axes>"
      ]
     },
     "metadata": {
      "needs_background": "light"
     },
     "output_type": "display_data"
    }
   ],
   "source": [
    "plt.figure(figsize=(10,6)) \n",
    "plt.title('Dendrogram')\n",
    "plt.xlabel('Countries')\n",
    "plt.ylabel('Euclidean distances')\n",
    "dendro = sch.dendrogram(sch.linkage(X, method='ward'))"
   ]
  },
  {
   "cell_type": "markdown",
   "id": "d546e07c",
   "metadata": {
    "papermill": {
     "duration": 0.006583,
     "end_time": "2022-07-28T10:52:37.599524",
     "exception": false,
     "start_time": "2022-07-28T10:52:37.592941",
     "status": "completed"
    },
    "tags": []
   },
   "source": [
    "#### - From the elbow shape we can say that the optimal number of clusters is either 2 or maybe 3. \n",
    "#### - From the Dendrogram shape we can say that the optimal number of clusters is most probably 2. \n",
    "#### - We pick **k=3** since we want to rank the countries based on their need for help (1,2,3) "
   ]
  },
  {
   "cell_type": "markdown",
   "id": "d158d8f2",
   "metadata": {
    "papermill": {
     "duration": 0.006411,
     "end_time": "2022-07-28T10:52:37.612589",
     "exception": false,
     "start_time": "2022-07-28T10:52:37.606178",
     "status": "completed"
    },
    "tags": []
   },
   "source": [
    "# 3. K-means clustering"
   ]
  },
  {
   "cell_type": "code",
   "execution_count": 6,
   "id": "81c43497",
   "metadata": {
    "execution": {
     "iopub.execute_input": "2022-07-28T10:52:37.628318Z",
     "iopub.status.busy": "2022-07-28T10:52:37.627591Z",
     "iopub.status.idle": "2022-07-28T10:52:37.658723Z",
     "shell.execute_reply": "2022-07-28T10:52:37.657737Z"
    },
    "papermill": {
     "duration": 0.042116,
     "end_time": "2022-07-28T10:52:37.661427",
     "exception": false,
     "start_time": "2022-07-28T10:52:37.619311",
     "status": "completed"
    },
    "tags": []
   },
   "outputs": [],
   "source": [
    "number_of_clusters = 3\n",
    "kmeans = KMeans(n_clusters=number_of_clusters, init='k-means++', random_state=42)\n",
    "y_kmeans_pred = kmeans.fit_predict(X)"
   ]
  },
  {
   "cell_type": "code",
   "execution_count": 7,
   "id": "06f5471b",
   "metadata": {
    "execution": {
     "iopub.execute_input": "2022-07-28T10:52:37.679399Z",
     "iopub.status.busy": "2022-07-28T10:52:37.679001Z",
     "iopub.status.idle": "2022-07-28T10:52:37.686405Z",
     "shell.execute_reply": "2022-07-28T10:52:37.685506Z"
    },
    "papermill": {
     "duration": 0.018798,
     "end_time": "2022-07-28T10:52:37.688756",
     "exception": false,
     "start_time": "2022-07-28T10:52:37.669958",
     "status": "completed"
    },
    "tags": []
   },
   "outputs": [
    {
     "data": {
      "text/plain": [
       "array([0, 0, 0, 0, 0, 0, 0, 2, 2, 0, 2, 2, 0, 0, 0, 2, 0, 0, 0, 0, 0, 0,\n",
       "       0, 1, 0, 0, 0, 0, 0, 2, 0, 0, 0, 0, 0, 0, 0, 0, 0, 0, 0, 0, 2, 2,\n",
       "       2, 0, 0, 0, 0, 2, 0, 0, 0, 2, 2, 0, 0, 0, 2, 0, 2, 0, 0, 0, 0, 0,\n",
       "       0, 0, 2, 0, 0, 0, 0, 2, 2, 2, 0, 2, 0, 0, 0, 0, 1, 0, 0, 0, 0, 0,\n",
       "       0, 0, 0, 1, 0, 0, 0, 0, 0, 0, 2, 0, 0, 0, 0, 0, 0, 0, 0, 0, 0, 0,\n",
       "       2, 2, 0, 0, 1, 2, 0, 0, 0, 0, 0, 0, 2, 1, 0, 0, 0, 0, 2, 0, 0, 0,\n",
       "       0, 1, 0, 2, 0, 0, 2, 2, 0, 0, 0, 0, 2, 1, 0, 0, 0, 0, 0, 0, 0, 0,\n",
       "       0, 0, 0, 2, 2, 2, 0, 0, 0, 0, 0, 0, 0], dtype=int32)"
      ]
     },
     "execution_count": 7,
     "metadata": {},
     "output_type": "execute_result"
    }
   ],
   "source": [
    "y_kmeans_pred"
   ]
  },
  {
   "cell_type": "markdown",
   "id": "a4c4e7f0",
   "metadata": {
    "papermill": {
     "duration": 0.006735,
     "end_time": "2022-07-28T10:52:37.702655",
     "exception": false,
     "start_time": "2022-07-28T10:52:37.695920",
     "status": "completed"
    },
    "tags": []
   },
   "source": [
    "#### - Now that we have the clusters, we need to decide which one (0 or 1 or 2) tells us about the help priority\n",
    "#### - We plot the clusters based one two columns. The selected columns are \"gdpp\" and \"health\". Gdpp gives us a good insight about the economy. Health expense with combination of gdpp can tell us how much people in a country can afford to pay for their health. This has direct impact on other health related features such as \"child_mort\" and \"life_expec\"."
   ]
  },
  {
   "cell_type": "code",
   "execution_count": 8,
   "id": "b0997d89",
   "metadata": {
    "execution": {
     "iopub.execute_input": "2022-07-28T10:52:37.719441Z",
     "iopub.status.busy": "2022-07-28T10:52:37.718655Z",
     "iopub.status.idle": "2022-07-28T10:52:37.725082Z",
     "shell.execute_reply": "2022-07-28T10:52:37.724302Z"
    },
    "papermill": {
     "duration": 0.01773,
     "end_time": "2022-07-28T10:52:37.727317",
     "exception": false,
     "start_time": "2022-07-28T10:52:37.709587",
     "status": "completed"
    },
    "tags": []
   },
   "outputs": [
    {
     "data": {
      "text/plain": [
       "Index(['country', 'child_mort', 'exports', 'health', 'imports', 'income',\n",
       "       'inflation', 'life_expec', 'total_fer', 'gdpp'],\n",
       "      dtype='object')"
      ]
     },
     "execution_count": 8,
     "metadata": {},
     "output_type": "execute_result"
    }
   ],
   "source": [
    "data.columns"
   ]
  },
  {
   "cell_type": "code",
   "execution_count": 9,
   "id": "91b1e4f5",
   "metadata": {
    "execution": {
     "iopub.execute_input": "2022-07-28T10:52:37.744569Z",
     "iopub.status.busy": "2022-07-28T10:52:37.744149Z",
     "iopub.status.idle": "2022-07-28T10:52:38.020498Z",
     "shell.execute_reply": "2022-07-28T10:52:38.019168Z"
    },
    "papermill": {
     "duration": 0.287771,
     "end_time": "2022-07-28T10:52:38.023116",
     "exception": false,
     "start_time": "2022-07-28T10:52:37.735345",
     "status": "completed"
    },
    "tags": []
   },
   "outputs": [
    {
     "data": {
      "text/plain": [
       "<matplotlib.collections.PathCollection at 0x7fc77eb4fad0>"
      ]
     },
     "execution_count": 9,
     "metadata": {},
     "output_type": "execute_result"
    },
    {
     "data": {
      "image/png": "[encoded data removed]",
      "text/plain": [
       "<Figure size 720x432 with 1 Axes>"
      ]
     },
     "metadata": {
      "needs_background": "light"
     },
     "output_type": "display_data"
    }
   ],
   "source": [
    "gdpp_index = list(data.columns).index('gdpp') - 1 # minus one since we removed country name from X\n",
    "health_index = list(data.columns).index('health') - 1\n",
    "plt.figure(figsize=(10,6))\n",
    "red_patch= ptch.Patch(color=\"red\", label=\"Cluster 1\")\n",
    "blue_patch= ptch.Patch(color=\"blue\", label=\"Cluster 2\")\n",
    "green_patch= ptch.Patch(color=\"green\", label=\"Cluster 3\")\n",
    "plt.legend(handles=[red_patch, blue_patch, green_patch], loc=1, prop={'size': 13})\n",
    "plt.title('Clusters of countries compare with gdpp and health')\n",
    "plt.xlabel('gdpp')\n",
    "plt.ylabel('health')\n",
    "plt.scatter(X[y_kmeans_pred == 0, gdpp_index], X[y_kmeans_pred == 0, health_index], s = 100, c = 'red')\n",
    "plt.scatter(X[y_kmeans_pred == 1, gdpp_index], X[y_kmeans_pred == 1, health_index], s = 100, c = 'blue')\n",
    "plt.scatter(X[y_kmeans_pred == 2, gdpp_index], X[y_kmeans_pred == 2, health_index], s = 100, c = 'green')"
   ]
  },
  {
   "cell_type": "markdown",
   "id": "ef377152",
   "metadata": {
    "papermill": {
     "duration": 0.007739,
     "end_time": "2022-07-28T10:52:38.038909",
     "exception": false,
     "start_time": "2022-07-28T10:52:38.031170",
     "status": "completed"
    },
    "tags": []
   },
   "source": [
    "# 4. Result discussion"
   ]
  },
  {
   "cell_type": "markdown",
   "id": "621c914c",
   "metadata": {
    "papermill": {
     "duration": 0.007673,
     "end_time": "2022-07-28T10:52:38.054506",
     "exception": false,
     "start_time": "2022-07-28T10:52:38.046833",
     "status": "completed"
    },
    "tags": []
   },
   "source": [
    "#### We can say based on the above plot that these are the Ranking:\n",
    "\n",
    "- **Red Cluster** : These are the countries that need immediate help. They have low Gdpp. Also many of them have meduim to high health expenses. \n",
    "\n",
    "- **Green Cluster** : These are the countries that do not need help. Although they have low to meduim Gdpp,they managed to have a health expense relative to their income. (Probably by having a very efficient health system)\n",
    "\n",
    "- **Blue Cluster** : These are the countries that do not need help. Their health system is efficient like the green cluster but they have higher Gdpp."
   ]
  },
  {
   "cell_type": "markdown",
   "id": "79abfa1c",
   "metadata": {
    "papermill": {
     "duration": 0.008344,
     "end_time": "2022-07-28T10:52:38.070926",
     "exception": false,
     "start_time": "2022-07-28T10:52:38.062582",
     "status": "completed"
    },
    "tags": []
   },
   "source": [
    "### Red clusters countries"
   ]
  },
  {
   "cell_type": "code",
   "execution_count": 10,
   "id": "78db468d",
   "metadata": {
    "execution": {
     "iopub.execute_input": "2022-07-28T10:52:38.088807Z",
     "iopub.status.busy": "2022-07-28T10:52:38.088384Z",
     "iopub.status.idle": "2022-07-28T10:52:38.097904Z",
     "shell.execute_reply": "2022-07-28T10:52:38.096478Z"
    },
    "papermill": {
     "duration": 0.021421,
     "end_time": "2022-07-28T10:52:38.100402",
     "exception": false,
     "start_time": "2022-07-28T10:52:38.078981",
     "status": "completed"
    },
    "tags": []
   },
   "outputs": [
    {
     "data": {
      "text/plain": [
       "array(['Afghanistan', 'Albania', 'Algeria', 'Angola',\n",
       "       'Antigua and Barbuda', 'Argentina', 'Armenia', 'Azerbaijan',\n",
       "       'Bangladesh', 'Barbados', 'Belarus', 'Belize', 'Benin', 'Bhutan',\n",
       "       'Bolivia', 'Bosnia and Herzegovina', 'Botswana', 'Brazil',\n",
       "       'Bulgaria', 'Burkina Faso', 'Burundi', 'Cambodia', 'Cameroon',\n",
       "       'Cape Verde', 'Central African Republic', 'Chad', 'Chile', 'China',\n",
       "       'Colombia', 'Comoros', 'Congo, Dem. Rep.', 'Congo, Rep.',\n",
       "       'Costa Rica', \"Cote d'Ivoire\", 'Croatia', 'Dominican Republic',\n",
       "       'Ecuador', 'Egypt', 'El Salvador', 'Eritrea', 'Estonia', 'Fiji',\n",
       "       'Gabon', 'Gambia', 'Georgia', 'Ghana', 'Grenada', 'Guatemala',\n",
       "       'Guinea', 'Guinea-Bissau', 'Guyana', 'Haiti', 'Hungary', 'India',\n",
       "       'Indonesia', 'Iran', 'Iraq', 'Jamaica', 'Jordan', 'Kazakhstan',\n",
       "       'Kenya', 'Kiribati', 'Kyrgyz Republic', 'Lao', 'Latvia', 'Lebanon',\n",
       "       'Lesotho', 'Liberia', 'Libya', 'Lithuania', 'Macedonia, FYR',\n",
       "       'Madagascar', 'Malawi', 'Malaysia', 'Maldives', 'Mali',\n",
       "       'Mauritania', 'Mauritius', 'Micronesia, Fed. Sts.', 'Moldova',\n",
       "       'Mongolia', 'Montenegro', 'Morocco', 'Mozambique', 'Myanmar',\n",
       "       'Namibia', 'Nepal', 'Niger', 'Nigeria', 'Pakistan', 'Panama',\n",
       "       'Paraguay', 'Peru', 'Philippines', 'Poland', 'Romania', 'Russia',\n",
       "       'Rwanda', 'Samoa', 'Senegal', 'Serbia', 'Seychelles',\n",
       "       'Sierra Leone', 'Slovak Republic', 'Solomon Islands',\n",
       "       'South Africa', 'Sri Lanka', 'St. Vincent and the Grenadines',\n",
       "       'Sudan', 'Suriname', 'Tajikistan', 'Tanzania', 'Thailand',\n",
       "       'Timor-Leste', 'Togo', 'Tonga', 'Tunisia', 'Turkey',\n",
       "       'Turkmenistan', 'Uganda', 'Ukraine', 'Uruguay', 'Uzbekistan',\n",
       "       'Vanuatu', 'Venezuela', 'Vietnam', 'Yemen', 'Zambia'], dtype=object)"
      ]
     },
     "execution_count": 10,
     "metadata": {},
     "output_type": "execute_result"
    }
   ],
   "source": [
    "data.iloc[:, 0].values[y_kmeans_pred==0]"
   ]
  },
  {
   "cell_type": "markdown",
   "id": "460c034d",
   "metadata": {
    "papermill": {
     "duration": 0.00812,
     "end_time": "2022-07-28T10:52:38.117026",
     "exception": false,
     "start_time": "2022-07-28T10:52:38.108906",
     "status": "completed"
    },
    "tags": []
   },
   "source": [
    "### Green clusters countries"
   ]
  },
  {
   "cell_type": "code",
   "execution_count": 11,
   "id": "880c0efc",
   "metadata": {
    "execution": {
     "iopub.execute_input": "2022-07-28T10:52:38.135516Z",
     "iopub.status.busy": "2022-07-28T10:52:38.135075Z",
     "iopub.status.idle": "2022-07-28T10:52:38.144224Z",
     "shell.execute_reply": "2022-07-28T10:52:38.142937Z"
    },
    "papermill": {
     "duration": 0.021549,
     "end_time": "2022-07-28T10:52:38.146946",
     "exception": false,
     "start_time": "2022-07-28T10:52:38.125397",
     "status": "completed"
    },
    "tags": []
   },
   "outputs": [
    {
     "data": {
      "text/plain": [
       "array(['Brunei', 'Kuwait', 'Luxembourg', 'Norway', 'Qatar', 'Singapore',\n",
       "       'Switzerland'], dtype=object)"
      ]
     },
     "execution_count": 11,
     "metadata": {},
     "output_type": "execute_result"
    }
   ],
   "source": [
    "data.iloc[:, 0].values[y_kmeans_pred==1]"
   ]
  },
  {
   "cell_type": "markdown",
   "id": "77e874b8",
   "metadata": {
    "papermill": {
     "duration": 0.008156,
     "end_time": "2022-07-28T10:52:38.163666",
     "exception": false,
     "start_time": "2022-07-28T10:52:38.155510",
     "status": "completed"
    },
    "tags": []
   },
   "source": [
    "### Blue clusters countries"
   ]
  },
  {
   "cell_type": "code",
   "execution_count": 12,
   "id": "ca57c8c2",
   "metadata": {
    "execution": {
     "iopub.execute_input": "2022-07-28T10:52:38.182590Z",
     "iopub.status.busy": "2022-07-28T10:52:38.182142Z",
     "iopub.status.idle": "2022-07-28T10:52:38.190441Z",
     "shell.execute_reply": "2022-07-28T10:52:38.189160Z"
    },
    "papermill": {
     "duration": 0.021001,
     "end_time": "2022-07-28T10:52:38.192960",
     "exception": false,
     "start_time": "2022-07-28T10:52:38.171959",
     "status": "completed"
    },
    "tags": []
   },
   "outputs": [
    {
     "data": {
      "text/plain": [
       "array(['Australia', 'Austria', 'Bahamas', 'Bahrain', 'Belgium', 'Canada',\n",
       "       'Cyprus', 'Czech Republic', 'Denmark', 'Equatorial Guinea',\n",
       "       'Finland', 'France', 'Germany', 'Greece', 'Iceland', 'Ireland',\n",
       "       'Israel', 'Italy', 'Japan', 'Malta', 'Netherlands', 'New Zealand',\n",
       "       'Oman', 'Portugal', 'Saudi Arabia', 'Slovenia', 'South Korea',\n",
       "       'Spain', 'Sweden', 'United Arab Emirates', 'United Kingdom',\n",
       "       'United States'], dtype=object)"
      ]
     },
     "execution_count": 12,
     "metadata": {},
     "output_type": "execute_result"
    }
   ],
   "source": [
    "data.iloc[:, 0].values[y_kmeans_pred==2]"
   ]
  },
  {
   "cell_type": "code",
   "execution_count": null,
   "id": "49bbf71e",
   "metadata": {
    "papermill": {
     "duration": 0.008564,
     "end_time": "2022-07-28T10:52:38.210523",
     "exception": false,
     "start_time": "2022-07-28T10:52:38.201959",
     "status": "completed"
    },
    "tags": []
   },
   "outputs": [],
   "source": []
  }
 ],
 "metadata": {
  "kernelspec": {
   "display_name": "Python 3",
   "language": "python",
   "name": "python3"
  },
  "language_info": {
   "codemirror_mode": {
    "name": "ipython",
    "version": 3
   },
   "file_extension": ".py",
   "mimetype": "text/x-python",
   "name": "python",
   "nbconvert_exporter": "python",
   "pygments_lexer": "ipython3",
   "version": "3.7.12"
  },
  "papermill": {
   "default_parameters": {},
   "duration": 17.92399,
   "end_time": "2022-07-28T10:52:39.043226",
   "environment_variables": {},
   "exception": null,
   "input_path": "__notebook__.ipynb",
   "output_path": "__notebook__.ipynb",
   "parameters": {},
   "start_time": "2022-07-28T10:52:21.119236",
   "version": "2.3.4"
  }
 },
 "nbformat": 4,
 "nbformat_minor": 5
}
